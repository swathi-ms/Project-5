


# Imports 

import pandas as pd
import numpy as np
import matplotlib.pyplot





felix_df = pd.read_csv('../data/Cleaned_Felix.csv')
felix_df.head()


swathi_df = pd.read_csv('../data/Swathi.csv')
swathi_df.head()





# Check shape: 10_982 rows, 7 columns
felix_df.shape


# Look for nulls: Nulls in columns: name & film
felix_df.isnull().sum()


# Investigate nulls for name column: 
# Both nulls are for the award_category: Jean Hersholt Humanitaruan Award
felix_df[felix_df['name'].isnull()]


# Investigate nulls for film column: 
# The nulls are only in the honorary or humanitarian categories which aren't a part of the official 23 oscare categories
felix_df[felix_df['film'].isnull()].head(10)


# Delete all rows where film name is null
felix_df = felix_df.dropna(subset=['film'])
#felix_df['film'].isnull().sum()
felix_df.isnull().sum()


# Drop column Unnamed: 0
felix_df = felix_df.drop(columns = 'Unnamed: 0')
felix_df.head()


# Look into award categories:
# 112 categories but there should only be 23
felix_df['award_category'].value_counts().shape


# Names of all the categories:
# A lot of the categories are the same thing but they were named different after 1976
felix_df['award_category'].unique()








category_mapping = {
    'Actor in a Leading Role' : ['Actor in a Leading Role', 
                                 'Actor',
                                 'Actor In a Leading Role'],
    'Actor in a Supporting Role' : ['Actor in a Supporting Role', 
                                    'Actor In a Supporting Role'],
    'Actress in a Leading Role' : ['Actress in a Leading Role', 
                                   'Actress', 
                                   'Actress In a Leading Role'],
    'Actress in a Supporting Role' : ['Actress in a Supporting Role', 
                                      'Actress In a Supporting Role'],
    'Animated Feature Film' : ['Animated Feature Film'],
    'Animated Short Film' : ['Animated Short Film', 
                             'Short Film (Animated)', 
                             'Short Subject (Cartoon)',
                             'Short Subject (Animated)'],
    'Cinematography' : ['Cinematography', 
                        'Cinematography (Black-And-White)', 
                        'Cinematography (Color)'],
    'Costume Design' : ['Costume Design', 
                        'Costume Design (Black-And-White)', 
                        'Costume Design (Color)'],
    'Directing' : ['Directing',
                   'Directing (Dramatic Picture)',
                   'Directing (Comedy Picture)'],
    'Documentary Feature Film' : ['Documentary Feature Film', 
                                  'Documentary (Feature)',
                                  'Documentary'],
    'Documentary Short Film' : ['Documentary Short Film', 
                                'Documentary (Short Subject)'],
    'Film Editing' : ['Film Editing'],
    'International Feature Film' : ['International Feature Film', 
                                    'Foreign Language Film'],
    'Makeup and Hairstyling' : ['Makeup and Hairstyling', 
                                'Makeup'],
    'Music (Original Score)' : ['Music (Original Score)', 
                                'Music (Music Score of a Dramatic or Comedy Picture)',
                                'Music (Scoring of a Musical Picture)', 'Music (Scoring)', 
                                'Music (Original Dramatic Score)', 'Music (Scoring of Music--Adaptation or Treatment)',
                                'Music (Original Musical or Comedy Score)','Music (Music Score--Substantially Original)',
                                'Music (Music Score of a Dramatic Picture)','Music (Original Music Score)',
                                'Music (Score of a Musical Picture--Original or Adaptation)',
                                'Music (Original Score--For a Motion Picture [Not a Musical])',
                                'Music (Scoring: Original Song Score and Adaptation -or- Scoring: Adaptation)',
                                'Music (Scoring: Adaptation and Original Song Score)',
                                'Music (Original Song Score)',
                                'Music (Original Song Score and its Adaptation or Adaptation Score)',
                                'Music (Original Song Score and its Adaptation -or- Adaptation Score)',
                                'Music (Original Song Score or Adaptation Score)',
                                'Music (Adaptation Score)'],
    'Music (Original Song)': ['Music (Original Song)', 
                              'Music (Song)',
                              'Music (Song--Original for the Picture)'],
    'Best Picture' : ['Best Picture', 
                      'Outstanding Production', 
                      'Best Motion Picture',
                      'Outstanding Motion Picture',
                      'Outstanding Picture'],
    'Production Design' : ['Production Design', 
                           'Art Direction', 
                           'Art Direction (Black-And-White)', 
                           'Art Direction (Color)'],
    'Live Action Short Film' : ['Live Action Short Film', 
                                'Short Film (Live Action)', 
                                'Short Subject (One-Reel)', 
                                'Short Subject (Two-Reel)',
                                'Short Subject (Live Action)',
                                'Short Subject (Comedy)',
                                'Short Subject (Novelty)',
                                'Short Subject (Color)',
                                'Short Film (Dramatic Live Action)'],
    'Sound' : ['Sound', 
               'Sound Recording', 
               'Sound Editing', 
               'Sound Mixing',
               'Sound Effects Editing',
               'Special Achievement Award (Sound Editing)',
               'Sound Effects',
               'Special Achievement Award (Sound Effects Editing)',
               'Special Achievement Award (Sound Effects)'],
    'Visual Effects' : ['Visual Effects', 
                        'Special Effects',
                        'Special Visual Effects',
                        'Special Achievement Award (Visual Effects)'],
    'Writing (Adapted Screenplay)' : ['Writing (Adapted Screenplay)', 
                                      'Writing (Screenplay--Based on Material from Another Medium)',
                                      'Writing (Screenplay Based on Material From Another Medium)', 
                                      'Writing (Screenplay Based on Material Previously Produced Or Published)',
                                      'Writing (Adaptation)',
                                      'Writing (Screenplay Adapted from Other Material)',
                                      'Writing (Screenplay--Adapted)'],
    'Writing (Original Screenplay)' : ['Writing (Original Screenplay)', 
                                       'Writing (Screenplay Written Directly for the Screen)',
                                       'Writing (Screenplay)',
                                       'Writing (Story and Screenplay--Written Directly for the Screen)', 
                                       'Writing (Original Story)', 
                                       'Writing (Motion Picture Story)',
                                       'Writing (Story and Screenplay)',
                                       'Writing (Original Motion Picture Story)',
                                       'Writing (Story and Screenplay--Based on Factual Material or Material not Previously Published or Produced)',
                                       'Writing',
                                       'Writing (Screenplay Written Directly for the Screen--based nn Factual Material or on Story Material not Previously Published or Produced)',
                                       'Writing (Screenplay--Original)',
                                       'Writing (Story and Screenplay--Based on Material not Previously Published or Produced)',
                                       'Writing (Title Writing)']
}


# Apply the mapping 
# Invert the category_mapping dictionary to create a flat mapping
flat_mapping = {}
for standard, variants in category_mapping.items():
    for v in variants:
        flat_mapping[v] = standard

# Apply the mapping to the dataframe
# Create another column with correct categories
felix_df['oscar_category'] = felix_df['award_category'].map(flat_mapping).fillna(felix_df['award_category'])


felix_df.head()


# Check new column, all correct 23 columns + the 4 discontinued oscar categories
felix_df['oscar_category'].value_counts()





felix_df = felix_df[~felix_df['oscar_category'].isin([
    'Dance Direction',
    'Assistant Director',
    'Unique and Artistic Picture',
    'Engineering Effects'
])]


felix_df['oscar_category'].value_counts().shape





felix_df = felix_df.drop(columns = ['award_category',
                                    'name'])


felix_df['status'].value_counts()





swathi_df.head()


# Check shape
swathi_df.shape


# Check for nulls 
swathi_df.isnull().sum()





swathi_df.drop(columns = ['Position',
                          'Const',
                          'Created',
                          'Modified',
                          'Description',
                          'URL'], inplace = True)


swathi_df.head()


# Check min year in felix_df b/c if row is not in the felix_df it won't be used
felix_df['ceremony_year'].min()


swathi_df['Year'].min()





swathi_df = swathi_df[swathi_df['Year'] >= 1928]


# Check it 
swathi_df['Year'].min()





swathi_df.isnull().sum()





swathi_df[swathi_df['IMDb Rating'].isnull()].iloc[0:34]


swathi_df[swathi_df['IMDb Rating'].isnull()].iloc[34:68]








swathi_df['Title Type'].value_counts()





swathi_df[swathi_df['Runtime (mins)'].isnull()]
# They are all shorts/documentaries, if they merge with the felix_df then runtimes will be manually inputed





swathi_df[swathi_df['Genres'].isnull()]
# If it appears after the merge, will be manually inputed





swathi_df[swathi_df['Release Date'].isnull()]
# If all the rows merge, the year of the ceramony will be inputted, the ceramony year is the same as the release year





swathi_df[swathi_df['Directors'].isnull()]
# if they merge, will manually replace Directors


swathi_df.to_csv('cleaned_swathi_df.csv', index=False)





# One-hot encode the 'oscar_category' column
won_df = felix_df[felix_df['status'] == 'Won']

ohe = pd.get_dummies(won_df['oscar_category']).astype(int)


# Join the one-hot encoded columns with the original DataFrame
felix_ohe = pd.concat([felix_df, ohe], axis=1)


# Group by 'film' and sum the one-hot encoded values
felix_grouped = felix_ohe.groupby('film', as_index=False).sum()


felix_grouped


# Sum all one-hot encoded category columns to get the total Oscars won
felix_grouped['total_oscars_won'] = felix_grouped.iloc[:, 6:].sum(axis=1)


# Sum all one-hot encoded category columns to get the total Oscars won
felix_grouped.head()





felix_grouped.drop(columns = ['ceremony_year', 'oscar_category', 'status'], inplace = True)


felix_grouped.head()





# Strip leading/trailing whitespace, remove quotes, and convert to title case (or camelCase)
felix_grouped['film'] = (
    felix_grouped['film']
    .str.strip()  # Remove leading and trailing whitespace
    .str.replace(r"['\"]", '', regex=True)  # Remove single or double quotes
    .str.title()  # Convert to title case 
)


felix_grouped.head()


felix_grouped['ceremony'].value_counts()


felix_grouped['ceremony'] = felix_grouped['ceremony'].str.extract(r'(\d{1,2}(?:st|nd|rd|th))')[0]


felix_grouped





felix_grouped['won'] = (felix_grouped['total_oscars_won'] > 1).astype(int)


felix_grouped.head()


# Convert column names to snake_case
felix_grouped.columns = (felix_grouped.columns
                    .str.replace(r'\s+', '_', regex=True)  # Replace spaces with underscores
                    .str.replace(r'[()]', '', regex=True)  # Remove parentheses only
                    .str.lower())


felix_grouped.head()





felix_grouped.shape


swathi_df.shape


# Change all the title names in swathi_df to be title case so they match when merge
swathi_df['Title'] = (
    swathi_df['Title']
    .str.strip()  # Remove leading and trailing whitespace
    .str.replace(r"['\"]", '', regex=True)  # Remove single or double quotes
    .str.title()  # Convert to title case (you can switch to camel case as needed)
)


# Merge Felix and Swathi dataframes on movie title
merged_df = pd.merge(felix_grouped, swathi_df, left_on = 'film', right_on = 'Title', how = 'inner')


merged_df.shape


merged_df.head()
merged_df['total_oscars_won'].value_counts()
merged_df['won'] = (merged_df['total_oscars_won'] > 1).astype(int)





merged_df.drop(columns = ['Title', 'Original Title'], inplace = True)


merged_df.head()


merged_df.to_csv('oscars.csv', index=False)


oscars = pd.read_csv('../data/oscars.csv')
oscars.head()


oscars.columns


oscars['total_oscars_won'].value_counts()





oscars['won'].value_counts()


felix_df.groupby('film').nunique()


felix_df.shape


felix_grouped.shape


oscars.shape









